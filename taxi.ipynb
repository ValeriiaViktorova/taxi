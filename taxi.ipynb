{
 "cells": [
  {
   "cell_type": "markdown",
   "metadata": {
    "toc": true
   },
   "source": [
    "<h1>Содержание<span class=\"tocSkip\"></span></h1>\n",
    "<div class=\"toc\"><ul class=\"toc-item\"><li><ul class=\"toc-item\"><li><ul class=\"toc-item\"><li><span><a href=\"#Полезные-ссылки:\" data-toc-modified-id=\"Полезные-ссылки:-0.0.1\"><span class=\"toc-item-num\">0.0.1&nbsp;&nbsp;</span><font color=\"orange\">Полезные ссылки:</font></a></span></li></ul></li><li><span><a href=\"#Общее-впечатление\" data-toc-modified-id=\"Общее-впечатление-0.1\"><span class=\"toc-item-num\">0.1&nbsp;&nbsp;</span><font color=\"orange\">Общее впечатление</font></a></span></li><li><span><a href=\"#Общее-впечатление-(ревью-2)\" data-toc-modified-id=\"Общее-впечатление-(ревью-2)-0.2\"><span class=\"toc-item-num\">0.2&nbsp;&nbsp;</span><font color=\"orange\">Общее впечатление (ревью 2)</font></a></span></li></ul></li><li><span><a href=\"#Подготовка\" data-toc-modified-id=\"Подготовка-1\"><span class=\"toc-item-num\">1&nbsp;&nbsp;</span>Подготовка</a></span></li><li><span><a href=\"#Анализ\" data-toc-modified-id=\"Анализ-2\"><span class=\"toc-item-num\">2&nbsp;&nbsp;</span>Анализ</a></span></li><li><span><a href=\"#Обучение\" data-toc-modified-id=\"Обучение-3\"><span class=\"toc-item-num\">3&nbsp;&nbsp;</span>Обучение</a></span></li><li><span><a href=\"#Тестирование\" data-toc-modified-id=\"Тестирование-4\"><span class=\"toc-item-num\">4&nbsp;&nbsp;</span>Тестирование</a></span></li><li><span><a href=\"#Чек-лист-проверки\" data-toc-modified-id=\"Чек-лист-проверки-5\"><span class=\"toc-item-num\">5&nbsp;&nbsp;</span>Чек-лист проверки</a></span></li></ul></div>"
   ]
  },
  {
   "cell_type": "markdown",
   "metadata": {},
   "source": [
    "#  Прогнозирование заказов такси"
   ]
  },
  {
   "cell_type": "markdown",
   "metadata": {},
   "source": [
    "Компания «Чётенькое такси» собрала исторические данные о заказах такси в аэропортах. Чтобы привлекать больше водителей в период пиковой нагрузки, нужно спрогнозировать количество заказов такси на следующий час. Постройте модель для такого предсказания.\n",
    "\n",
    "Значение метрики *RMSE* на тестовой выборке должно быть не больше 48.\n",
    "\n",
    "Вам нужно:\n",
    "\n",
    "1. Загрузить данные и выполнить их ресемплирование по одному часу.\n",
    "2. Проанализировать данные.\n",
    "3. Обучить разные модели с различными гиперпараметрами. Сделать тестовую выборку размером 10% от исходных данных.\n",
    "4. Проверить данные на тестовой выборке и сделать выводы.\n",
    "\n",
    "\n",
    "Данные лежат в файле `taxi.csv`. Количество заказов находится в столбце `num_orders` (от англ. *number of orders*, «число заказов»)."
   ]
  },
  {
   "cell_type": "markdown",
   "metadata": {},
   "source": [
    "## Подготовка"
   ]
  },
  {
   "cell_type": "markdown",
   "metadata": {},
   "source": [
    "Импортируем необходимые библиотеки"
   ]
  },
  {
   "cell_type": "code",
   "execution_count": 1,
   "metadata": {},
   "outputs": [],
   "source": [
    "import pandas as pd\n",
    "import matplotlib.pyplot as plt\n",
    "from sklearn.model_selection import train_test_split, RandomizedSearchCV\n",
    "from sklearn.model_selection import TimeSeriesSplit\n",
    "from sklearn.metrics import mean_squared_error\n",
    "from statsmodels.tsa.seasonal import seasonal_decompose\n",
    "from sklearn.linear_model import LinearRegression\n",
    "from catboost import CatBoostRegressor\n",
    "from sklearn.model_selection import TimeSeriesSplit\n",
    "import lightgbm as lgb\n",
    "import numpy as np\n",
    "import warnings\n",
    "warnings.filterwarnings('ignore')"
   ]
  },
  {
   "cell_type": "code",
   "execution_count": 2,
   "metadata": {},
   "outputs": [],
   "source": [
    "data = pd.read_csv('/datasets/taxi.csv')"
   ]
  },
  {
   "cell_type": "code",
   "execution_count": 3,
   "metadata": {},
   "outputs": [
    {
     "data": {
      "text/html": [
       "<div>\n",
       "<style scoped>\n",
       "    .dataframe tbody tr th:only-of-type {\n",
       "        vertical-align: middle;\n",
       "    }\n",
       "\n",
       "    .dataframe tbody tr th {\n",
       "        vertical-align: top;\n",
       "    }\n",
       "\n",
       "    .dataframe thead th {\n",
       "        text-align: right;\n",
       "    }\n",
       "</style>\n",
       "<table border=\"1\" class=\"dataframe\">\n",
       "  <thead>\n",
       "    <tr style=\"text-align: right;\">\n",
       "      <th></th>\n",
       "      <th>datetime</th>\n",
       "      <th>num_orders</th>\n",
       "    </tr>\n",
       "  </thead>\n",
       "  <tbody>\n",
       "    <tr>\n",
       "      <th>0</th>\n",
       "      <td>2018-03-01 00:00:00</td>\n",
       "      <td>9</td>\n",
       "    </tr>\n",
       "    <tr>\n",
       "      <th>1</th>\n",
       "      <td>2018-03-01 00:10:00</td>\n",
       "      <td>14</td>\n",
       "    </tr>\n",
       "    <tr>\n",
       "      <th>2</th>\n",
       "      <td>2018-03-01 00:20:00</td>\n",
       "      <td>28</td>\n",
       "    </tr>\n",
       "    <tr>\n",
       "      <th>3</th>\n",
       "      <td>2018-03-01 00:30:00</td>\n",
       "      <td>20</td>\n",
       "    </tr>\n",
       "    <tr>\n",
       "      <th>4</th>\n",
       "      <td>2018-03-01 00:40:00</td>\n",
       "      <td>32</td>\n",
       "    </tr>\n",
       "  </tbody>\n",
       "</table>\n",
       "</div>"
      ],
      "text/plain": [
       "              datetime  num_orders\n",
       "0  2018-03-01 00:00:00           9\n",
       "1  2018-03-01 00:10:00          14\n",
       "2  2018-03-01 00:20:00          28\n",
       "3  2018-03-01 00:30:00          20\n",
       "4  2018-03-01 00:40:00          32"
      ]
     },
     "execution_count": 3,
     "metadata": {},
     "output_type": "execute_result"
    }
   ],
   "source": [
    "data.head()"
   ]
  },
  {
   "cell_type": "code",
   "execution_count": 4,
   "metadata": {},
   "outputs": [
    {
     "name": "stdout",
     "output_type": "stream",
     "text": [
      "<class 'pandas.core.frame.DataFrame'>\n",
      "RangeIndex: 26496 entries, 0 to 26495\n",
      "Data columns (total 2 columns):\n",
      " #   Column      Non-Null Count  Dtype \n",
      "---  ------      --------------  ----- \n",
      " 0   datetime    26496 non-null  object\n",
      " 1   num_orders  26496 non-null  int64 \n",
      "dtypes: int64(1), object(1)\n",
      "memory usage: 414.1+ KB\n"
     ]
    }
   ],
   "source": [
    "data.info()"
   ]
  },
  {
   "cell_type": "markdown",
   "metadata": {},
   "source": [
    "В нашем датасете 26496 записей с количеством заказов на каждый 10 минутный интервал времени.\n",
    "Пропуски отсутствуют.\n",
    " \n",
    "Приведём признак datetime к типу datetime"
   ]
  },
  {
   "cell_type": "code",
   "execution_count": 5,
   "metadata": {},
   "outputs": [],
   "source": [
    "data['datetime'] = pd.to_datetime(data['datetime'], format='%Y-%m-%d %H:%M:%S')"
   ]
  },
  {
   "cell_type": "code",
   "execution_count": 6,
   "metadata": {},
   "outputs": [
    {
     "data": {
      "text/html": [
       "<div>\n",
       "<style scoped>\n",
       "    .dataframe tbody tr th:only-of-type {\n",
       "        vertical-align: middle;\n",
       "    }\n",
       "\n",
       "    .dataframe tbody tr th {\n",
       "        vertical-align: top;\n",
       "    }\n",
       "\n",
       "    .dataframe thead th {\n",
       "        text-align: right;\n",
       "    }\n",
       "</style>\n",
       "<table border=\"1\" class=\"dataframe\">\n",
       "  <thead>\n",
       "    <tr style=\"text-align: right;\">\n",
       "      <th></th>\n",
       "      <th>num_orders</th>\n",
       "    </tr>\n",
       "    <tr>\n",
       "      <th>datetime</th>\n",
       "      <th></th>\n",
       "    </tr>\n",
       "  </thead>\n",
       "  <tbody>\n",
       "    <tr>\n",
       "      <th>2018-03-01 00:00:00</th>\n",
       "      <td>124</td>\n",
       "    </tr>\n",
       "    <tr>\n",
       "      <th>2018-03-01 01:00:00</th>\n",
       "      <td>85</td>\n",
       "    </tr>\n",
       "    <tr>\n",
       "      <th>2018-03-01 02:00:00</th>\n",
       "      <td>71</td>\n",
       "    </tr>\n",
       "    <tr>\n",
       "      <th>2018-03-01 03:00:00</th>\n",
       "      <td>66</td>\n",
       "    </tr>\n",
       "    <tr>\n",
       "      <th>2018-03-01 04:00:00</th>\n",
       "      <td>43</td>\n",
       "    </tr>\n",
       "  </tbody>\n",
       "</table>\n",
       "</div>"
      ],
      "text/plain": [
       "                     num_orders\n",
       "datetime                       \n",
       "2018-03-01 00:00:00         124\n",
       "2018-03-01 01:00:00          85\n",
       "2018-03-01 02:00:00          71\n",
       "2018-03-01 03:00:00          66\n",
       "2018-03-01 04:00:00          43"
      ]
     },
     "execution_count": 6,
     "metadata": {},
     "output_type": "execute_result"
    }
   ],
   "source": [
    "#выполним ресемплинг на на 1 часовой интервал и установим время как индекс \n",
    "data = data.set_index('datetime').resample('1H').sum()\n",
    "data.head()"
   ]
  },
  {
   "cell_type": "markdown",
   "metadata": {},
   "source": [
    "**Вывод**\n",
    "\n",
    " - загрузили данные, не обнаружили пропуски;\n",
    " - выполнили ресемплинг на 1 часовой интервал"
   ]
  },
  {
   "cell_type": "markdown",
   "metadata": {},
   "source": [
    "## Анализ"
   ]
  },
  {
   "cell_type": "markdown",
   "metadata": {},
   "source": [
    "Посмотрим какой у нас интервал данных "
   ]
  },
  {
   "cell_type": "code",
   "execution_count": 7,
   "metadata": {},
   "outputs": [
    {
     "name": "stdout",
     "output_type": "stream",
     "text": [
      "Начало периода: 2018-03-01 00:00:00\n",
      "Конец периода:   2018-08-31 23:00:00\n"
     ]
    }
   ],
   "source": [
    "print(f'Начало периода: {data.index.min()}')\n",
    "print(f'Конец периода:   {data.index.max()}')"
   ]
  },
  {
   "cell_type": "markdown",
   "metadata": {},
   "source": [
    "Построим график"
   ]
  },
  {
   "cell_type": "code",
   "execution_count": 8,
   "metadata": {},
   "outputs": [
    {
     "data": {
      "text/plain": [
       "<AxesSubplot:xlabel='datetime'>"
      ]
     },
     "execution_count": 8,
     "metadata": {},
     "output_type": "execute_result"
    },
    {
     "data": {
      "image/png": "[encoded data removed]",
      "text/plain": [
       "<Figure size 1008x288 with 1 Axes>"
      ]
     },
     "metadata": {
      "needs_background": "light"
     },
     "output_type": "display_data"
    }
   ],
   "source": [
    "data.plot(figsize=(14,4))"
   ]
  },
  {
   "cell_type": "markdown",
   "metadata": {},
   "source": [
    "Проверим есть ли циклично повторяющиеся закономерности "
   ]
  },
  {
   "cell_type": "code",
   "execution_count": 9,
   "metadata": {},
   "outputs": [
    {
     "data": {
      "text/plain": [
       "<AxesSubplot:xlabel='datetime'>"
      ]
     },
     "execution_count": 9,
     "metadata": {},
     "output_type": "execute_result"
    },
    {
     "data": {
      "image/png": "[encoded data removed]",
      "text/plain": [
       "<Figure size 1008x288 with 1 Axes>"
      ]
     },
     "metadata": {
      "needs_background": "light"
     },
     "output_type": "display_data"
    }
   ],
   "source": [
    "decomposed = seasonal_decompose(data)\n",
    "decomposed.seasonal.plot(figsize=(14,4))"
   ]
  },
  {
   "cell_type": "markdown",
   "metadata": {},
   "source": [
    "Построим для одной недели, так как сезонность имеет очень маленький период"
   ]
  },
  {
   "cell_type": "code",
   "execution_count": 10,
   "metadata": {},
   "outputs": [
    {
     "data": {
      "text/plain": [
       "<AxesSubplot:xlabel='datetime'>"
      ]
     },
     "execution_count": 10,
     "metadata": {},
     "output_type": "execute_result"
    },
    {
     "data": {
      "image/png": "[encoded data removed]",
      "text/plain": [
       "<Figure size 1008x288 with 1 Axes>"
      ]
     },
     "metadata": {
      "needs_background": "light"
     },
     "output_type": "display_data"
    }
   ],
   "source": [
    "seasonal_decompose(data['2018-03-01':'2018-03-6']).seasonal.plot(figsize=(14,4))"
   ]
  },
  {
   "cell_type": "markdown",
   "metadata": {},
   "source": [
    "Наблюдаем проявление сезонности ежедневно: больше всего заказов к концу дня, а меньше всего ночью\n",
    "\n",
    "Проверим проявляется ли тренд за выбранный период"
   ]
  },
  {
   "cell_type": "code",
   "execution_count": 11,
   "metadata": {},
   "outputs": [
    {
     "data": {
      "text/plain": [
       "<AxesSubplot:xlabel='datetime'>"
      ]
     },
     "execution_count": 11,
     "metadata": {},
     "output_type": "execute_result"
    },
    {
     "data": {
      "image/png": "[encoded data removed]",
      "text/plain": [
       "<Figure size 1008x288 with 1 Axes>"
      ]
     },
     "metadata": {
      "needs_background": "light"
     },
     "output_type": "display_data"
    }
   ],
   "source": [
    "decomposed.trend.plot(figsize=(14,4))"
   ]
  },
  {
   "cell_type": "markdown",
   "metadata": {},
   "source": [
    "Видим  увеличение количества заказов с конца весны, до конца лета\n",
    "\n",
    "Построим график изменения количества заказов "
   ]
  },
  {
   "cell_type": "code",
   "execution_count": 12,
   "metadata": {},
   "outputs": [
    {
     "data": {
      "text/plain": [
       "<AxesSubplot:xlabel='datetime'>"
      ]
     },
     "execution_count": 12,
     "metadata": {},
     "output_type": "execute_result"
    },
    {
     "data": {
      "image/png": "[encoded data removed]",
      "text/plain": [
       "<Figure size 1008x288 with 1 Axes>"
      ]
     },
     "metadata": {
      "needs_background": "light"
     },
     "output_type": "display_data"
    }
   ],
   "source": [
    "decomposed.resid.plot(figsize=(14,4))"
   ]
  },
  {
   "cell_type": "markdown",
   "metadata": {},
   "source": [
    "Можем отметить, что волатильность изменений количества заказов к концу лета выше."
   ]
  },
  {
   "cell_type": "markdown",
   "metadata": {},
   "source": [
    "**Вывод**\n",
    "\n",
    "Видим, что есть дневная сезонность, восходящий тренд, волатильность изменений количества заказов к концу лета выше."
   ]
  },
  {
   "cell_type": "markdown",
   "metadata": {},
   "source": [
    "## Обучение"
   ]
  },
  {
   "cell_type": "markdown",
   "metadata": {},
   "source": [
    "Создадим функцию которая создаст дополнительные параметры"
   ]
  },
  {
   "cell_type": "code",
   "execution_count": 13,
   "metadata": {},
   "outputs": [
    {
     "name": "stdout",
     "output_type": "stream",
     "text": [
      "                     num_orders  day  dayofweek  hour  lag_1  lag_2  lag_3  \\\n",
      "datetime                                                                     \n",
      "2018-03-01 00:00:00         124    1          3     0    NaN    NaN    NaN   \n",
      "2018-03-01 01:00:00          85    1          3     1  124.0    NaN    NaN   \n",
      "2018-03-01 02:00:00          71    1          3     2   85.0  124.0    NaN   \n",
      "2018-03-01 03:00:00          66    1          3     3   71.0   85.0  124.0   \n",
      "2018-03-01 04:00:00          43    1          3     4   66.0   71.0   85.0   \n",
      "\n",
      "                     lag_4  lag_5  lag_6  ...  lag_162  lag_163  lag_164  \\\n",
      "datetime                                  ...                              \n",
      "2018-03-01 00:00:00    NaN    NaN    NaN  ...      NaN      NaN      NaN   \n",
      "2018-03-01 01:00:00    NaN    NaN    NaN  ...      NaN      NaN      NaN   \n",
      "2018-03-01 02:00:00    NaN    NaN    NaN  ...      NaN      NaN      NaN   \n",
      "2018-03-01 03:00:00    NaN    NaN    NaN  ...      NaN      NaN      NaN   \n",
      "2018-03-01 04:00:00  124.0    NaN    NaN  ...      NaN      NaN      NaN   \n",
      "\n",
      "                     lag_165  lag_166  lag_167  lag_168  lag_169  lag_170  \\\n",
      "datetime                                                                    \n",
      "2018-03-01 00:00:00      NaN      NaN      NaN      NaN      NaN      NaN   \n",
      "2018-03-01 01:00:00      NaN      NaN      NaN      NaN      NaN      NaN   \n",
      "2018-03-01 02:00:00      NaN      NaN      NaN      NaN      NaN      NaN   \n",
      "2018-03-01 03:00:00      NaN      NaN      NaN      NaN      NaN      NaN   \n",
      "2018-03-01 04:00:00      NaN      NaN      NaN      NaN      NaN      NaN   \n",
      "\n",
      "                     rolling_mean  \n",
      "datetime                           \n",
      "2018-03-01 00:00:00           NaN  \n",
      "2018-03-01 01:00:00           NaN  \n",
      "2018-03-01 02:00:00           NaN  \n",
      "2018-03-01 03:00:00           NaN  \n",
      "2018-03-01 04:00:00           NaN  \n",
      "\n",
      "[5 rows x 175 columns]\n"
     ]
    }
   ],
   "source": [
    "\n",
    "def make_features(data, max_lag, rolling_mean_size):\n",
    "    data['day'] = data.index.day\n",
    "    data['dayofweek'] = data.index.dayofweek\n",
    "    data['hour'] = data.index.hour\n",
    "    # отстающие значения\n",
    "    for lag in range(1, max_lag + 1):\n",
    "        data['lag_{}'.format(lag)] = data['num_orders'].shift(lag)\n",
    "    # скользящее среднее    \n",
    "    data['rolling_mean'] = data['num_orders'].shift(1).rolling(rolling_mean_size).mean()\n",
    "\n",
    "\n",
    "make_features(data, 170, 20)\n",
    "print(data.head())"
   ]
  },
  {
   "cell_type": "code",
   "execution_count": 14,
   "metadata": {},
   "outputs": [
    {
     "name": "stdout",
     "output_type": "stream",
     "text": [
      "Проверка минимального и максимального значений индексов для тренировочного датасета:  2018-03-01 00:00:00 2018-08-13 13:00:00\n",
      "Проверка минимального и максимального значений индексов для тестового датасета:  2018-08-13 14:00:00 2018-08-31 23:00:00\n"
     ]
    }
   ],
   "source": [
    "# Разделение исходного датафрейма на тренировочный и тестовый\n",
    "train, test = train_test_split(data, shuffle=False, test_size = 0.1, random_state = 12345)\n",
    "print('Проверка минимального и максимального значений индексов для тренировочного датасета: ', \n",
    "      train.index.min(), train.index.max())\n",
    "print('Проверка минимального и максимального значений индексов для тестового датасета: ', \n",
    "      test.index.min(), test.index.max())\n",
    "train = train.dropna()\n",
    "train, valid = train_test_split(train, shuffle=False, test_size=0.3, random_state=12345)"
   ]
  },
  {
   "cell_type": "code",
   "execution_count": 15,
   "metadata": {},
   "outputs": [],
   "source": [
    "features_train = train.drop(['num_orders'], axis = 1)\n",
    "target_train = train['num_orders']\n",
    "features_test = test.drop(['num_orders'], axis = 1)\n",
    "target_test = test['num_orders']\n",
    "features_valid = valid.drop(['num_orders'], axis = 1)\n",
    "target_valid = valid['num_orders']"
   ]
  },
  {
   "cell_type": "markdown",
   "metadata": {},
   "source": [
    "*Линейная регрессия*"
   ]
  },
  {
   "cell_type": "code",
   "execution_count": 16,
   "metadata": {},
   "outputs": [
    {
     "name": "stdout",
     "output_type": "stream",
     "text": [
      "RMSE на валидационной выборке: 25.76820560061727\n"
     ]
    }
   ],
   "source": [
    "model_lr = LinearRegression()\n",
    "model_lr.fit(features_train, target_train)\n",
    "predict_lr_valid = model_lr.predict(features_valid)\n",
    "rmse_lr_valid = mean_squared_error(np.array(target_valid), predict_lr_valid)**0.5\n",
    "print('RMSE на валидационной выборке:', rmse_lr_valid)"
   ]
  },
  {
   "cell_type": "markdown",
   "metadata": {},
   "source": [
    "*CatBoost*"
   ]
  },
  {
   "cell_type": "code",
   "execution_count": 17,
   "metadata": {},
   "outputs": [
    {
     "name": "stdout",
     "output_type": "stream",
     "text": [
      "0:\tlearn: 29.7813890\ttotal: 287ms\tremaining: 1m 25s\n",
      "100:\tlearn: 20.7086935\ttotal: 14.2s\tremaining: 27.9s\n",
      "200:\tlearn: 15.6953842\ttotal: 28s\tremaining: 13.8s\n",
      "299:\tlearn: 12.5480414\ttotal: 41.7s\tremaining: 0us\n",
      "0:\tlearn: 29.2103570\ttotal: 280ms\tremaining: 1m 23s\n",
      "100:\tlearn: 20.0630148\ttotal: 16.3s\tremaining: 32.2s\n",
      "200:\tlearn: 15.7766821\ttotal: 32.1s\tremaining: 15.8s\n",
      "299:\tlearn: 13.3073219\ttotal: 47.9s\tremaining: 0us\n",
      "0:\tlearn: 30.7022562\ttotal: 293ms\tremaining: 1m 27s\n",
      "100:\tlearn: 20.9048787\ttotal: 18.2s\tremaining: 35.9s\n",
      "200:\tlearn: 16.5793384\ttotal: 36.3s\tremaining: 17.9s\n",
      "299:\tlearn: 14.1472145\ttotal: 53.5s\tremaining: 0us\n",
      "0:\tlearn: 31.8352005\ttotal: 311ms\tremaining: 1m 32s\n",
      "100:\tlearn: 21.6212365\ttotal: 18.8s\tremaining: 37s\n",
      "200:\tlearn: 17.3015783\ttotal: 37.1s\tremaining: 18.3s\n",
      "299:\tlearn: 15.0448065\ttotal: 55.2s\tremaining: 0us\n",
      "0:\tlearn: 32.7676204\ttotal: 325ms\tremaining: 1m 37s\n",
      "100:\tlearn: 22.0609180\ttotal: 20s\tremaining: 39.5s\n",
      "200:\tlearn: 17.8596108\ttotal: 39.8s\tremaining: 19.6s\n",
      "299:\tlearn: 15.6895052\ttotal: 59.8s\tremaining: 0us\n",
      "0:\tlearn: 29.8941101\ttotal: 115ms\tremaining: 34.3s\n",
      "100:\tlearn: 28.6613953\ttotal: 7.21s\tremaining: 14.2s\n",
      "200:\tlearn: 27.4956070\ttotal: 14.3s\tremaining: 7.03s\n",
      "299:\tlearn: 26.4218061\ttotal: 21.3s\tremaining: 0us\n",
      "0:\tlearn: 29.3323643\ttotal: 132ms\tremaining: 39.5s\n",
      "100:\tlearn: 28.0382530\ttotal: 8.37s\tremaining: 16.5s\n",
      "200:\tlearn: 26.8427364\ttotal: 16.6s\tremaining: 8.16s\n",
      "299:\tlearn: 25.7736687\ttotal: 24.7s\tremaining: 0us\n",
      "0:\tlearn: 30.8262563\ttotal: 148ms\tremaining: 44.2s\n",
      "100:\tlearn: 29.4052968\ttotal: 9.21s\tremaining: 18.2s\n",
      "200:\tlearn: 28.0855744\ttotal: 18.2s\tremaining: 8.98s\n",
      "299:\tlearn: 26.9088367\ttotal: 27.1s\tremaining: 0us\n",
      "0:\tlearn: 31.9814756\ttotal: 156ms\tremaining: 46.7s\n",
      "100:\tlearn: 30.4672478\ttotal: 9.73s\tremaining: 19.2s\n",
      "200:\tlearn: 29.0843556\ttotal: 19.4s\tremaining: 9.55s\n",
      "299:\tlearn: 27.8448297\ttotal: 28.9s\tremaining: 0us\n",
      "0:\tlearn: 32.9080182\ttotal: 170ms\tremaining: 50.8s\n",
      "100:\tlearn: 31.2992805\ttotal: 10.5s\tremaining: 20.8s\n",
      "200:\tlearn: 29.8289971\ttotal: 20.8s\tremaining: 10.2s\n",
      "299:\tlearn: 28.5232177\ttotal: 31s\tremaining: 0us\n",
      "0:\tlearn: 29.8949897\ttotal: 188ms\tremaining: 56.2s\n",
      "100:\tlearn: 28.7169029\ttotal: 19.2s\tremaining: 37.8s\n",
      "200:\tlearn: 27.5955739\ttotal: 38.2s\tremaining: 18.8s\n",
      "299:\tlearn: 26.5602634\ttotal: 56.9s\tremaining: 0us\n",
      "0:\tlearn: 29.3325324\ttotal: 221ms\tremaining: 1m 6s\n",
      "100:\tlearn: 28.0851064\ttotal: 22.7s\tremaining: 44.8s\n",
      "200:\tlearn: 26.9421469\ttotal: 45s\tremaining: 22.2s\n",
      "299:\tlearn: 25.8759380\ttotal: 1m 7s\tremaining: 0us\n",
      "0:\tlearn: 30.8266122\ttotal: 263ms\tremaining: 1m 18s\n",
      "100:\tlearn: 29.4355522\ttotal: 24.9s\tremaining: 49.1s\n",
      "200:\tlearn: 28.1628166\ttotal: 49.6s\tremaining: 24.4s\n",
      "299:\tlearn: 26.9993296\ttotal: 1m 14s\tremaining: 0us\n",
      "0:\tlearn: 31.9816355\ttotal: 265ms\tremaining: 1m 19s\n",
      "100:\tlearn: 30.4941347\ttotal: 26.8s\tremaining: 52.8s\n",
      "200:\tlearn: 29.1552625\ttotal: 53.3s\tremaining: 26.3s\n",
      "299:\tlearn: 27.9144468\ttotal: 1m 19s\tremaining: 0us\n",
      "0:\tlearn: 32.9080750\ttotal: 295ms\tremaining: 1m 28s\n",
      "100:\tlearn: 31.3350204\ttotal: 29.2s\tremaining: 57.6s\n",
      "200:\tlearn: 29.9001095\ttotal: 57.7s\tremaining: 28.4s\n",
      "299:\tlearn: 28.5901663\ttotal: 1m 25s\tremaining: 0us\n",
      "0:\tlearn: 28.5517336\ttotal: 34ms\tremaining: 10.2s\n",
      "100:\tlearn: 6.9046612\ttotal: 2.22s\tremaining: 4.37s\n",
      "200:\tlearn: 2.8706963\ttotal: 4.41s\tremaining: 2.17s\n",
      "299:\tlearn: 1.0700638\ttotal: 6.57s\tremaining: 0us\n",
      "0:\tlearn: 28.0344897\ttotal: 53ms\tremaining: 15.9s\n",
      "100:\tlearn: 10.0394319\ttotal: 2.65s\tremaining: 5.22s\n",
      "200:\tlearn: 5.7349395\ttotal: 5.24s\tremaining: 2.58s\n",
      "299:\tlearn: 3.4197278\ttotal: 7.81s\tremaining: 0us\n",
      "0:\tlearn: 29.4982434\ttotal: 43.7ms\tremaining: 13.1s\n",
      "100:\tlearn: 11.7548457\ttotal: 2.96s\tremaining: 5.82s\n",
      "200:\tlearn: 7.9232311\ttotal: 5.81s\tremaining: 2.86s\n",
      "299:\tlearn: 5.3423149\ttotal: 8.63s\tremaining: 0us\n",
      "0:\tlearn: 30.4129937\ttotal: 48ms\tremaining: 14.4s\n",
      "100:\tlearn: 12.9501295\ttotal: 3.12s\tremaining: 6.15s\n",
      "200:\tlearn: 9.2919498\ttotal: 6.13s\tremaining: 3.02s\n",
      "299:\tlearn: 6.9337805\ttotal: 9.13s\tremaining: 0us\n",
      "0:\tlearn: 31.3863770\ttotal: 51.8ms\tremaining: 15.5s\n",
      "100:\tlearn: 14.1561570\ttotal: 3.45s\tremaining: 6.79s\n",
      "200:\tlearn: 10.7680025\ttotal: 6.8s\tremaining: 3.35s\n",
      "299:\tlearn: 8.2520302\ttotal: 10.1s\tremaining: 0us\n",
      "0:\tlearn: 28.6648512\ttotal: 225ms\tremaining: 1m 7s\n",
      "100:\tlearn: 3.5889720\ttotal: 13.6s\tremaining: 26.8s\n",
      "200:\tlearn: 0.7939628\ttotal: 26.9s\tremaining: 13.2s\n",
      "299:\tlearn: 0.1446885\ttotal: 40.6s\tremaining: 0us\n",
      "0:\tlearn: 28.0160719\ttotal: 312ms\tremaining: 1m 33s\n",
      "100:\tlearn: 5.7320698\ttotal: 17.5s\tremaining: 34.6s\n",
      "200:\tlearn: 1.9740066\ttotal: 33.5s\tremaining: 16.5s\n",
      "299:\tlearn: 0.6555377\ttotal: 49.1s\tremaining: 0us\n",
      "0:\tlearn: 29.4918560\ttotal: 300ms\tremaining: 1m 29s\n",
      "100:\tlearn: 7.5151481\ttotal: 17.9s\tremaining: 35.4s\n",
      "200:\tlearn: 3.2704757\ttotal: 35.6s\tremaining: 17.5s\n",
      "299:\tlearn: 1.4217233\ttotal: 53s\tremaining: 0us\n",
      "0:\tlearn: 30.4036914\ttotal: 317ms\tremaining: 1m 34s\n",
      "100:\tlearn: 9.0956540\ttotal: 19.1s\tremaining: 37.6s\n",
      "200:\tlearn: 4.5340619\ttotal: 38s\tremaining: 18.7s\n",
      "299:\tlearn: 2.3333517\ttotal: 56.6s\tremaining: 0us\n",
      "0:\tlearn: 31.3959020\ttotal: 357ms\tremaining: 1m 46s\n",
      "100:\tlearn: 10.6545862\ttotal: 20.7s\tremaining: 40.8s\n",
      "200:\tlearn: 6.0961220\ttotal: 41.1s\tremaining: 20.2s\n",
      "299:\tlearn: 3.4983459\ttotal: 1m 1s\tremaining: 0us\n",
      "0:\tlearn: 29.8949351\ttotal: 228ms\tremaining: 1m 8s\n",
      "100:\tlearn: 28.6806608\ttotal: 14s\tremaining: 27.5s\n",
      "200:\tlearn: 27.5573364\ttotal: 27.5s\tremaining: 13.6s\n",
      "299:\tlearn: 26.5174651\ttotal: 41.1s\tremaining: 0us\n",
      "0:\tlearn: 29.3325224\ttotal: 278ms\tremaining: 1m 22s\n",
      "100:\tlearn: 28.0514777\ttotal: 16.3s\tremaining: 32.1s\n",
      "200:\tlearn: 26.8785642\ttotal: 32.6s\tremaining: 16s\n",
      "299:\tlearn: 25.7927374\ttotal: 48.4s\tremaining: 0us\n",
      "0:\tlearn: 30.8263225\ttotal: 308ms\tremaining: 1m 31s\n",
      "100:\tlearn: 29.3969240\ttotal: 18s\tremaining: 35.5s\n",
      "200:\tlearn: 28.1073916\ttotal: 35.5s\tremaining: 17.5s\n",
      "299:\tlearn: 26.9283994\ttotal: 52.8s\tremaining: 0us\n",
      "0:\tlearn: 31.9814940\ttotal: 349ms\tremaining: 1m 44s\n",
      "100:\tlearn: 30.4662434\ttotal: 19.4s\tremaining: 38.2s\n",
      "200:\tlearn: 29.1017970\ttotal: 38.4s\tremaining: 18.9s\n",
      "299:\tlearn: 27.8603613\ttotal: 57s\tremaining: 0us\n",
      "0:\tlearn: 32.9078884\ttotal: 357ms\tremaining: 1m 46s\n",
      "100:\tlearn: 31.2912145\ttotal: 21s\tremaining: 41.4s\n",
      "200:\tlearn: 29.8522885\ttotal: 41.3s\tremaining: 20.3s\n",
      "299:\tlearn: 28.5493503\ttotal: 1m 1s\tremaining: 0us\n",
      "0:\tlearn: 29.8937343\ttotal: 40.7ms\tremaining: 12.2s\n",
      "100:\tlearn: 28.6259618\ttotal: 2.3s\tremaining: 4.53s\n",
      "200:\tlearn: 27.4557520\ttotal: 4.57s\tremaining: 2.25s\n",
      "299:\tlearn: 26.4018840\ttotal: 6.85s\tremaining: 0us\n",
      "0:\tlearn: 29.3326817\ttotal: 55.9ms\tremaining: 16.7s\n",
      "100:\tlearn: 28.0289089\ttotal: 2.7s\tremaining: 5.31s\n",
      "200:\tlearn: 26.8463925\ttotal: 5.3s\tremaining: 2.61s\n",
      "299:\tlearn: 25.7782643\ttotal: 7.98s\tremaining: 0us\n",
      "0:\tlearn: 30.8263531\ttotal: 46.7ms\tremaining: 14s\n",
      "100:\tlearn: 29.4004042\ttotal: 3.08s\tremaining: 6.06s\n",
      "200:\tlearn: 28.1010232\ttotal: 6s\tremaining: 2.96s\n",
      "299:\tlearn: 26.9339772\ttotal: 8.88s\tremaining: 0us\n",
      "0:\tlearn: 31.9815473\ttotal: 47.7ms\tremaining: 14.3s\n",
      "100:\tlearn: 30.4738189\ttotal: 3.17s\tremaining: 6.24s\n",
      "200:\tlearn: 29.1150488\ttotal: 6.4s\tremaining: 3.15s\n",
      "299:\tlearn: 27.8958156\ttotal: 9.53s\tremaining: 0us\n",
      "0:\tlearn: 32.9077393\ttotal: 52.7ms\tremaining: 15.8s\n",
      "100:\tlearn: 31.3056820\ttotal: 3.42s\tremaining: 6.74s\n",
      "200:\tlearn: 29.8597817\ttotal: 6.81s\tremaining: 3.35s\n",
      "299:\tlearn: 28.5815465\ttotal: 10.3s\tremaining: 0us\n",
      "0:\tlearn: 29.2403382\ttotal: 119ms\tremaining: 35.6s\n",
      "100:\tlearn: 9.4681372\ttotal: 7.3s\tremaining: 14.4s\n",
      "200:\tlearn: 4.3552653\ttotal: 14.5s\tremaining: 7.15s\n",
      "299:\tlearn: 2.0649560\ttotal: 21.6s\tremaining: 0us\n",
      "0:\tlearn: 28.6656901\ttotal: 148ms\tremaining: 44.3s\n",
      "100:\tlearn: 11.2919136\ttotal: 8.59s\tremaining: 16.9s\n",
      "200:\tlearn: 7.1295161\ttotal: 17s\tremaining: 8.38s\n",
      "299:\tlearn: 4.5471324\ttotal: 25.3s\tremaining: 0us\n",
      "0:\tlearn: 30.1542788\ttotal: 153ms\tremaining: 45.9s\n",
      "100:\tlearn: 12.4584992\ttotal: 9.5s\tremaining: 18.7s\n",
      "200:\tlearn: 9.0014500\ttotal: 18.7s\tremaining: 9.23s\n",
      "299:\tlearn: 6.7137736\ttotal: 27.8s\tremaining: 0us\n",
      "0:\tlearn: 31.1911962\ttotal: 177ms\tremaining: 53s\n",
      "100:\tlearn: 13.4753081\ttotal: 10s\tremaining: 19.8s\n",
      "200:\tlearn: 10.2328176\ttotal: 19.9s\tremaining: 9.78s\n",
      "299:\tlearn: 7.7052322\ttotal: 29.8s\tremaining: 0us\n",
      "0:\tlearn: 32.1577019\ttotal: 184ms\tremaining: 55s\n",
      "100:\tlearn: 14.4269783\ttotal: 11s\tremaining: 21.7s\n",
      "200:\tlearn: 11.7570097\ttotal: 21.8s\tremaining: 10.7s\n",
      "299:\tlearn: 9.1910138\ttotal: 32.2s\tremaining: 0us\n",
      "0:\tlearn: 28.5449899\ttotal: 62.1ms\tremaining: 18.6s\n",
      "100:\tlearn: 5.7280320\ttotal: 4.04s\tremaining: 7.96s\n",
      "200:\tlearn: 1.8000841\ttotal: 8s\tremaining: 3.94s\n",
      "299:\tlearn: 0.6470524\ttotal: 11.9s\tremaining: 0us\n",
      "0:\tlearn: 28.0066113\ttotal: 73.8ms\tremaining: 22.1s\n",
      "100:\tlearn: 8.6307065\ttotal: 4.58s\tremaining: 9.03s\n",
      "200:\tlearn: 4.2235888\ttotal: 9.06s\tremaining: 4.46s\n",
      "299:\tlearn: 2.0309310\ttotal: 13.6s\tremaining: 0us\n",
      "0:\tlearn: 29.4919731\ttotal: 82.7ms\tremaining: 24.7s\n",
      "100:\tlearn: 10.5293888\ttotal: 5.08s\tremaining: 10s\n",
      "200:\tlearn: 6.4511429\ttotal: 10s\tremaining: 4.95s\n",
      "299:\tlearn: 3.7158986\ttotal: 15s\tremaining: 0us\n",
      "0:\tlearn: 30.4166027\ttotal: 88.1ms\tremaining: 26.3s\n",
      "100:\tlearn: 12.0122059\ttotal: 5.53s\tremaining: 10.9s\n",
      "200:\tlearn: 7.8289596\ttotal: 10.9s\tremaining: 5.38s\n",
      "299:\tlearn: 5.2077797\ttotal: 16.3s\tremaining: 0us\n",
      "0:\tlearn: 31.3748460\ttotal: 95.5ms\tremaining: 28.5s\n",
      "100:\tlearn: 12.9835379\ttotal: 5.92s\tremaining: 11.7s\n",
      "200:\tlearn: 8.8484846\ttotal: 11.8s\tremaining: 5.79s\n",
      "299:\tlearn: 6.4553358\ttotal: 17.5s\tremaining: 0us\n",
      "0:\tlearn: 28.5855785\ttotal: 119ms\tremaining: 35.7s\n",
      "100:\tlearn: 4.7019204\ttotal: 7.35s\tremaining: 14.5s\n",
      "200:\tlearn: 1.1808992\ttotal: 14.5s\tremaining: 7.16s\n",
      "299:\tlearn: 0.2898942\ttotal: 21.6s\tremaining: 0us\n",
      "0:\tlearn: 28.0015691\ttotal: 139ms\tremaining: 41.5s\n",
      "100:\tlearn: 7.6124749\ttotal: 8.52s\tremaining: 16.8s\n",
      "200:\tlearn: 3.2221455\ttotal: 16.8s\tremaining: 8.28s\n",
      "299:\tlearn: 1.3614617\ttotal: 25.2s\tremaining: 0us\n",
      "0:\tlearn: 29.4861996\ttotal: 153ms\tremaining: 45.7s\n",
      "100:\tlearn: 9.2159759\ttotal: 9.33s\tremaining: 18.4s\n",
      "200:\tlearn: 4.6698731\ttotal: 18.5s\tremaining: 9.11s\n",
      "299:\tlearn: 2.4916530\ttotal: 27.6s\tremaining: 0us\n",
      "0:\tlearn: 30.4033940\ttotal: 164ms\tremaining: 49.1s\n",
      "100:\tlearn: 10.4273877\ttotal: 10s\tremaining: 19.7s\n",
      "200:\tlearn: 6.0600712\ttotal: 20s\tremaining: 9.86s\n",
      "299:\tlearn: 3.7104981\ttotal: 29.9s\tremaining: 0us\n",
      "0:\tlearn: 31.4103520\ttotal: 177ms\tremaining: 52.8s\n",
      "100:\tlearn: 11.6537438\ttotal: 10.8s\tremaining: 21.2s\n",
      "200:\tlearn: 7.6483267\ttotal: 21.4s\tremaining: 10.6s\n",
      "299:\tlearn: 4.8202267\ttotal: 31.9s\tremaining: 0us\n",
      "0:\tlearn: 32.6645391\ttotal: 203ms\tremaining: 1m\n",
      "100:\tlearn: 15.3013976\ttotal: 11.4s\tremaining: 22.4s\n",
      "200:\tlearn: 12.6360271\ttotal: 22.5s\tremaining: 11.1s\n",
      "299:\tlearn: 10.3229235\ttotal: 33.3s\tremaining: 0us\n",
      "RMSE на валидационной выборке: 27.7546441822984\n"
     ]
    }
   ],
   "source": [
    "model_cb = CatBoostRegressor(random_state = 12345, iterations = 300)\n",
    "parameters_cb = {'depth': range(6, 11),\n",
    "                 'learning_rate': [0.001, 0.01, 0.05, 0.1]}\n",
    "tscv = TimeSeriesSplit(n_splits=5)\n",
    "search_cb = RandomizedSearchCV(model_cb, parameters_cb, cv = tscv, n_jobs = -1, random_state = 12345)\n",
    "search_cb.fit(features_train, target_train, verbose = 100)\n",
    "best_cb = search_cb.best_estimator_\n",
    "predict_cb_valid = best_cb.predict(features_valid)\n",
    "rmse_cb_valid = mean_squared_error(np.array(target_valid), predict_cb_valid)**0.5\n",
    "print('RMSE на валидационной выборке:', rmse_cb_valid)"
   ]
  },
  {
   "cell_type": "code",
   "execution_count": 18,
   "metadata": {},
   "outputs": [
    {
     "data": {
      "text/html": [
       "<div>\n",
       "<style scoped>\n",
       "    .dataframe tbody tr th:only-of-type {\n",
       "        vertical-align: middle;\n",
       "    }\n",
       "\n",
       "    .dataframe tbody tr th {\n",
       "        vertical-align: top;\n",
       "    }\n",
       "\n",
       "    .dataframe thead th {\n",
       "        text-align: right;\n",
       "    }\n",
       "</style>\n",
       "<table border=\"1\" class=\"dataframe\">\n",
       "  <thead>\n",
       "    <tr style=\"text-align: right;\">\n",
       "      <th></th>\n",
       "      <th>model</th>\n",
       "      <th>rmse</th>\n",
       "    </tr>\n",
       "  </thead>\n",
       "  <tbody>\n",
       "    <tr>\n",
       "      <th>0</th>\n",
       "      <td>LinearRegression</td>\n",
       "      <td>25.768206</td>\n",
       "    </tr>\n",
       "    <tr>\n",
       "      <th>1</th>\n",
       "      <td>CatBoost</td>\n",
       "      <td>27.754644</td>\n",
       "    </tr>\n",
       "  </tbody>\n",
       "</table>\n",
       "</div>"
      ],
      "text/plain": [
       "              model       rmse\n",
       "0  LinearRegression  25.768206\n",
       "1          CatBoost  27.754644"
      ]
     },
     "execution_count": 18,
     "metadata": {},
     "output_type": "execute_result"
    }
   ],
   "source": [
    "data_model = [['LinearRegression', rmse_lr_valid], \n",
    "              ['CatBoost', rmse_cb_valid]]\n",
    "columns_model = ['model', 'rmse']\n",
    "table_model = pd.DataFrame(data = data_model, columns = columns_model)\n",
    "table_model"
   ]
  },
  {
   "cell_type": "markdown",
   "metadata": {},
   "source": [
    "## Тестирование"
   ]
  },
  {
   "cell_type": "markdown",
   "metadata": {},
   "source": [
    "Выберем и протестируем лучшую модель, в данном случае LinearRegression оказалась более точной"
   ]
  },
  {
   "cell_type": "code",
   "execution_count": 19,
   "metadata": {
    "scrolled": true
   },
   "outputs": [
    {
     "name": "stdout",
     "output_type": "stream",
     "text": [
      "Качество модели Linear Regression на тестовой выборке: 36.2939469289\n"
     ]
    }
   ],
   "source": [
    "predict_lr_test = model_lr.predict(features_test)\n",
    "rmse_lr_test = mean_squared_error(np.array(target_test), predict_lr_test)**0.5\n",
    "print('Качество модели Linear Regression на тестовой выборке:', rmse_lr_test)\n"
   ]
  },
  {
   "cell_type": "markdown",
   "metadata": {},
   "source": [
    "<div class=\"alert alert-block alert-info\">\n",
    "<b>Совет: </b> Финальные предсказания можно было визуализирвоать: графики исходного и предсказанных рядов.\n",
    "</div>"
   ]
  },
  {
   "cell_type": "markdown",
   "metadata": {},
   "source": [
    "**Вывод**\n",
    "\n",
    "\n",
    "Целью проекта было создание модели, способной предсказать спрос на услуги такси с отклонением до 48 заказов в час.\n",
    "\n",
    "Мы обучили две модели, наиболее точной оказалась LinearRegression. Проверив ее на тестовой выборке, ее отклонение составило 36, что удовлетворяет нашей задаче по получению отклонения до 48 заказов в час. \n",
    "\n",
    "Учитывая, что  мы наблюдали  тренд на увеличение заказов, которые сложно прогноризуются в \"начале\" сезона,  результат можно считать неплохим. \n",
    "\n",
    "Цели и задачи исследования достигнуты, однако для улучшения метрики стоит взять больший период времени."
   ]
  }
 ],
 "metadata": {
  "ExecuteTimeLog": [
   {
    "duration": 1736,
    "start_time": "2022-04-19T11:54:26.244Z"
   },
   {
    "duration": 172,
    "start_time": "2022-04-19T11:56:41.764Z"
   },
   {
    "duration": 41,
    "start_time": "2022-04-19T11:56:50.988Z"
   },
   {
    "duration": 11,
    "start_time": "2022-04-19T11:56:59.173Z"
   },
   {
    "duration": 11,
    "start_time": "2022-04-19T11:57:11.271Z"
   },
   {
    "duration": 31,
    "start_time": "2022-04-19T11:57:22.156Z"
   },
   {
    "duration": 7,
    "start_time": "2022-04-19T11:57:23.306Z"
   },
   {
    "duration": 12,
    "start_time": "2022-04-19T11:57:27.777Z"
   },
   {
    "duration": 10,
    "start_time": "2022-04-19T11:58:42.967Z"
   },
   {
    "duration": 14,
    "start_time": "2022-04-19T11:59:37.047Z"
   },
   {
    "duration": 4,
    "start_time": "2022-04-19T12:03:53.574Z"
   },
   {
    "duration": 3,
    "start_time": "2022-04-19T12:04:36.551Z"
   },
   {
    "duration": 249,
    "start_time": "2022-04-19T12:05:22.769Z"
   },
   {
    "duration": 344,
    "start_time": "2022-04-19T12:05:49.435Z"
   },
   {
    "duration": 235,
    "start_time": "2022-04-19T12:06:08.177Z"
   },
   {
    "duration": 245,
    "start_time": "2022-04-19T12:07:15.049Z"
   },
   {
    "duration": 240,
    "start_time": "2022-04-19T12:07:39.625Z"
   },
   {
    "duration": 252,
    "start_time": "2022-04-19T12:07:43.616Z"
   },
   {
    "duration": 283,
    "start_time": "2022-04-19T12:07:49.883Z"
   },
   {
    "duration": 327,
    "start_time": "2022-04-19T12:07:55.702Z"
   },
   {
    "duration": 156,
    "start_time": "2022-04-19T12:09:19.589Z"
   },
   {
    "duration": 225,
    "start_time": "2022-04-19T12:10:14.077Z"
   },
   {
    "duration": 231,
    "start_time": "2022-04-19T12:13:03.092Z"
   },
   {
    "duration": 4,
    "start_time": "2022-04-19T13:13:25.401Z"
   },
   {
    "duration": 15,
    "start_time": "2022-04-19T13:14:04.598Z"
   },
   {
    "duration": 8,
    "start_time": "2022-04-19T13:15:16.026Z"
   },
   {
    "duration": 102180,
    "start_time": "2022-04-19T13:16:13.582Z"
   },
   {
    "duration": 3,
    "start_time": "2022-04-19T13:18:27.274Z"
   },
   {
    "duration": 3,
    "start_time": "2022-04-19T13:18:40.894Z"
   },
   {
    "duration": 14,
    "start_time": "2022-04-19T13:24:16.844Z"
   },
   {
    "duration": 9,
    "start_time": "2022-04-19T13:27:51.521Z"
   },
   {
    "duration": 3,
    "start_time": "2022-04-19T13:44:27.368Z"
   },
   {
    "duration": 115,
    "start_time": "2022-04-19T13:44:29.236Z"
   },
   {
    "duration": 12,
    "start_time": "2022-04-19T13:45:46.879Z"
   },
   {
    "duration": 1515,
    "start_time": "2022-04-19T13:46:37.764Z"
   },
   {
    "duration": 31,
    "start_time": "2022-04-19T13:46:39.281Z"
   },
   {
    "duration": 12,
    "start_time": "2022-04-19T13:46:39.314Z"
   },
   {
    "duration": 16,
    "start_time": "2022-04-19T13:46:39.328Z"
   },
   {
    "duration": 11,
    "start_time": "2022-04-19T13:46:39.346Z"
   },
   {
    "duration": 15,
    "start_time": "2022-04-19T13:46:39.359Z"
   },
   {
    "duration": 4,
    "start_time": "2022-04-19T13:46:39.376Z"
   },
   {
    "duration": 297,
    "start_time": "2022-04-19T13:46:39.381Z"
   },
   {
    "duration": 279,
    "start_time": "2022-04-19T13:46:39.680Z"
   },
   {
    "duration": 240,
    "start_time": "2022-04-19T13:46:39.962Z"
   },
   {
    "duration": 242,
    "start_time": "2022-04-19T13:46:40.204Z"
   },
   {
    "duration": 125,
    "start_time": "2022-04-19T13:46:40.448Z"
   },
   {
    "duration": 0,
    "start_time": "2022-04-19T13:46:40.575Z"
   },
   {
    "duration": 0,
    "start_time": "2022-04-19T13:46:40.577Z"
   },
   {
    "duration": 0,
    "start_time": "2022-04-19T13:46:40.578Z"
   },
   {
    "duration": 0,
    "start_time": "2022-04-19T13:46:40.579Z"
   },
   {
    "duration": 0,
    "start_time": "2022-04-19T13:46:40.580Z"
   },
   {
    "duration": 0,
    "start_time": "2022-04-19T13:46:40.581Z"
   },
   {
    "duration": 0,
    "start_time": "2022-04-19T13:46:40.582Z"
   },
   {
    "duration": 0,
    "start_time": "2022-04-19T13:46:40.583Z"
   },
   {
    "duration": 0,
    "start_time": "2022-04-19T13:46:40.585Z"
   },
   {
    "duration": 1532,
    "start_time": "2022-04-19T13:47:03.442Z"
   },
   {
    "duration": 42,
    "start_time": "2022-04-19T13:47:04.976Z"
   },
   {
    "duration": 11,
    "start_time": "2022-04-19T13:47:05.020Z"
   },
   {
    "duration": 16,
    "start_time": "2022-04-19T13:47:05.033Z"
   },
   {
    "duration": 12,
    "start_time": "2022-04-19T13:47:05.051Z"
   },
   {
    "duration": 20,
    "start_time": "2022-04-19T13:47:05.065Z"
   },
   {
    "duration": 4,
    "start_time": "2022-04-19T13:47:05.087Z"
   },
   {
    "duration": 291,
    "start_time": "2022-04-19T13:47:05.093Z"
   },
   {
    "duration": 273,
    "start_time": "2022-04-19T13:47:05.385Z"
   },
   {
    "duration": 257,
    "start_time": "2022-04-19T13:47:05.660Z"
   },
   {
    "duration": 247,
    "start_time": "2022-04-19T13:47:05.919Z"
   },
   {
    "duration": 246,
    "start_time": "2022-04-19T13:47:06.167Z"
   },
   {
    "duration": 4,
    "start_time": "2022-04-19T13:47:06.415Z"
   },
   {
    "duration": 21,
    "start_time": "2022-04-19T13:47:06.421Z"
   },
   {
    "duration": 7,
    "start_time": "2022-04-19T13:47:06.443Z"
   },
   {
    "duration": 97508,
    "start_time": "2022-04-19T13:47:06.451Z"
   },
   {
    "duration": 4,
    "start_time": "2022-04-19T13:48:43.960Z"
   },
   {
    "duration": 26,
    "start_time": "2022-04-19T13:48:43.965Z"
   },
   {
    "duration": 7,
    "start_time": "2022-04-19T13:48:43.993Z"
   },
   {
    "duration": 211,
    "start_time": "2022-04-19T13:48:44.002Z"
   },
   {
    "duration": 0,
    "start_time": "2022-04-19T13:48:44.215Z"
   },
   {
    "duration": 1600,
    "start_time": "2022-04-19T13:50:17.440Z"
   },
   {
    "duration": 34,
    "start_time": "2022-04-19T13:50:19.042Z"
   },
   {
    "duration": 12,
    "start_time": "2022-04-19T13:50:19.078Z"
   },
   {
    "duration": 15,
    "start_time": "2022-04-19T13:50:19.093Z"
   },
   {
    "duration": 26,
    "start_time": "2022-04-19T13:50:19.109Z"
   },
   {
    "duration": 15,
    "start_time": "2022-04-19T13:50:19.137Z"
   },
   {
    "duration": 3,
    "start_time": "2022-04-19T13:50:19.154Z"
   },
   {
    "duration": 285,
    "start_time": "2022-04-19T13:50:19.159Z"
   },
   {
    "duration": 286,
    "start_time": "2022-04-19T13:50:19.445Z"
   },
   {
    "duration": 246,
    "start_time": "2022-04-19T13:50:19.733Z"
   },
   {
    "duration": 255,
    "start_time": "2022-04-19T13:50:19.981Z"
   },
   {
    "duration": 250,
    "start_time": "2022-04-19T13:50:20.237Z"
   },
   {
    "duration": 5,
    "start_time": "2022-04-19T13:50:20.489Z"
   },
   {
    "duration": 18,
    "start_time": "2022-04-19T13:50:20.496Z"
   },
   {
    "duration": 22,
    "start_time": "2022-04-19T13:50:20.515Z"
   },
   {
    "duration": 100460,
    "start_time": "2022-04-19T13:50:20.539Z"
   },
   {
    "duration": 3,
    "start_time": "2022-04-19T13:52:01.001Z"
   },
   {
    "duration": 19,
    "start_time": "2022-04-19T13:52:01.005Z"
   },
   {
    "duration": 8,
    "start_time": "2022-04-19T13:52:01.026Z"
   },
   {
    "duration": 10,
    "start_time": "2022-04-19T14:13:35.740Z"
   },
   {
    "duration": 134,
    "start_time": "2022-04-19T18:37:16.718Z"
   },
   {
    "duration": 1510,
    "start_time": "2022-04-19T18:37:26.171Z"
   },
   {
    "duration": 31,
    "start_time": "2022-04-19T18:37:27.683Z"
   },
   {
    "duration": 11,
    "start_time": "2022-04-19T18:37:27.715Z"
   },
   {
    "duration": 14,
    "start_time": "2022-04-19T18:37:27.728Z"
   },
   {
    "duration": 8,
    "start_time": "2022-04-19T18:37:27.745Z"
   },
   {
    "duration": 16,
    "start_time": "2022-04-19T18:37:27.755Z"
   },
   {
    "duration": 4,
    "start_time": "2022-04-19T18:37:27.773Z"
   },
   {
    "duration": 287,
    "start_time": "2022-04-19T18:37:27.779Z"
   },
   {
    "duration": 267,
    "start_time": "2022-04-19T18:37:28.068Z"
   },
   {
    "duration": 238,
    "start_time": "2022-04-19T18:37:28.337Z"
   },
   {
    "duration": 253,
    "start_time": "2022-04-19T18:37:28.577Z"
   },
   {
    "duration": 258,
    "start_time": "2022-04-19T18:37:28.833Z"
   },
   {
    "duration": 138,
    "start_time": "2022-04-19T18:37:29.093Z"
   },
   {
    "duration": 147,
    "start_time": "2022-04-19T18:37:44.914Z"
   },
   {
    "duration": 59,
    "start_time": "2022-04-19T18:37:50.799Z"
   },
   {
    "duration": 12,
    "start_time": "2022-04-19T18:39:03.783Z"
   },
   {
    "duration": 27,
    "start_time": "2022-04-19T18:39:18.585Z"
   },
   {
    "duration": 8,
    "start_time": "2022-04-19T18:39:59.514Z"
   },
   {
    "duration": 268,
    "start_time": "2022-04-19T18:40:39.677Z"
   },
   {
    "duration": 1674,
    "start_time": "2022-04-19T18:41:05.967Z"
   },
   {
    "duration": 42,
    "start_time": "2022-04-19T18:41:07.643Z"
   },
   {
    "duration": 11,
    "start_time": "2022-04-19T18:41:07.687Z"
   },
   {
    "duration": 13,
    "start_time": "2022-04-19T18:41:07.699Z"
   },
   {
    "duration": 9,
    "start_time": "2022-04-19T18:41:07.715Z"
   },
   {
    "duration": 16,
    "start_time": "2022-04-19T18:41:07.733Z"
   },
   {
    "duration": 3,
    "start_time": "2022-04-19T18:41:07.751Z"
   },
   {
    "duration": 301,
    "start_time": "2022-04-19T18:41:07.755Z"
   },
   {
    "duration": 275,
    "start_time": "2022-04-19T18:41:08.058Z"
   },
   {
    "duration": 246,
    "start_time": "2022-04-19T18:41:08.335Z"
   },
   {
    "duration": 239,
    "start_time": "2022-04-19T18:41:08.583Z"
   },
   {
    "duration": 263,
    "start_time": "2022-04-19T18:41:08.824Z"
   },
   {
    "duration": 134,
    "start_time": "2022-04-19T18:41:09.089Z"
   },
   {
    "duration": 31,
    "start_time": "2022-04-19T18:41:09.227Z"
   },
   {
    "duration": 8,
    "start_time": "2022-04-19T18:41:09.260Z"
   },
   {
    "duration": 366,
    "start_time": "2022-04-19T18:41:09.270Z"
   },
   {
    "duration": 124,
    "start_time": "2022-04-19T18:52:49.761Z"
   },
   {
    "duration": 1573,
    "start_time": "2022-04-19T18:54:08.422Z"
   },
   {
    "duration": 43,
    "start_time": "2022-04-19T18:54:09.997Z"
   },
   {
    "duration": 11,
    "start_time": "2022-04-19T18:54:10.042Z"
   },
   {
    "duration": 13,
    "start_time": "2022-04-19T18:54:10.055Z"
   },
   {
    "duration": 9,
    "start_time": "2022-04-19T18:54:10.071Z"
   },
   {
    "duration": 20,
    "start_time": "2022-04-19T18:54:10.082Z"
   },
   {
    "duration": 4,
    "start_time": "2022-04-19T18:54:10.103Z"
   },
   {
    "duration": 274,
    "start_time": "2022-04-19T18:54:10.134Z"
   },
   {
    "duration": 275,
    "start_time": "2022-04-19T18:54:10.410Z"
   },
   {
    "duration": 248,
    "start_time": "2022-04-19T18:54:10.687Z"
   },
   {
    "duration": 244,
    "start_time": "2022-04-19T18:54:10.938Z"
   },
   {
    "duration": 266,
    "start_time": "2022-04-19T18:54:11.184Z"
   },
   {
    "duration": 138,
    "start_time": "2022-04-19T18:54:11.452Z"
   },
   {
    "duration": 30,
    "start_time": "2022-04-19T18:54:11.592Z"
   },
   {
    "duration": 8,
    "start_time": "2022-04-19T18:54:11.634Z"
   },
   {
    "duration": 296,
    "start_time": "2022-04-19T18:54:11.644Z"
   },
   {
    "duration": 1689,
    "start_time": "2022-04-19T19:57:27.385Z"
   },
   {
    "duration": 34,
    "start_time": "2022-04-19T19:57:29.076Z"
   },
   {
    "duration": 12,
    "start_time": "2022-04-19T19:57:29.111Z"
   },
   {
    "duration": 16,
    "start_time": "2022-04-19T19:57:29.133Z"
   },
   {
    "duration": 20,
    "start_time": "2022-04-19T19:57:29.151Z"
   },
   {
    "duration": 19,
    "start_time": "2022-04-19T19:57:29.173Z"
   },
   {
    "duration": 4,
    "start_time": "2022-04-19T19:57:29.194Z"
   },
   {
    "duration": 327,
    "start_time": "2022-04-19T19:57:29.200Z"
   },
   {
    "duration": 294,
    "start_time": "2022-04-19T19:57:29.536Z"
   },
   {
    "duration": 278,
    "start_time": "2022-04-19T19:57:29.834Z"
   },
   {
    "duration": 283,
    "start_time": "2022-04-19T19:57:30.113Z"
   },
   {
    "duration": 287,
    "start_time": "2022-04-19T19:57:30.398Z"
   },
   {
    "duration": 143,
    "start_time": "2022-04-19T19:57:30.687Z"
   },
   {
    "duration": 40,
    "start_time": "2022-04-19T19:57:30.837Z"
   },
   {
    "duration": 9,
    "start_time": "2022-04-19T19:57:30.879Z"
   },
   {
    "duration": 2968,
    "start_time": "2022-04-19T19:57:30.890Z"
   },
   {
    "duration": 1809,
    "start_time": "2022-04-20T11:27:49.351Z"
   },
   {
    "duration": 44,
    "start_time": "2022-04-20T11:27:51.162Z"
   },
   {
    "duration": 12,
    "start_time": "2022-04-20T11:27:51.207Z"
   },
   {
    "duration": 26,
    "start_time": "2022-04-20T11:27:51.222Z"
   },
   {
    "duration": 16,
    "start_time": "2022-04-20T11:27:51.250Z"
   },
   {
    "duration": 34,
    "start_time": "2022-04-20T11:27:51.268Z"
   },
   {
    "duration": 14,
    "start_time": "2022-04-20T11:27:51.304Z"
   },
   {
    "duration": 266,
    "start_time": "2022-04-20T11:27:51.319Z"
   },
   {
    "duration": 288,
    "start_time": "2022-04-20T11:27:51.587Z"
   },
   {
    "duration": 248,
    "start_time": "2022-04-20T11:27:51.877Z"
   },
   {
    "duration": 251,
    "start_time": "2022-04-20T11:27:52.127Z"
   },
   {
    "duration": 258,
    "start_time": "2022-04-20T11:27:52.380Z"
   },
   {
    "duration": 129,
    "start_time": "2022-04-20T11:27:52.640Z"
   },
   {
    "duration": 29,
    "start_time": "2022-04-20T11:27:52.771Z"
   },
   {
    "duration": 18,
    "start_time": "2022-04-20T11:27:52.802Z"
   },
   {
    "duration": 320,
    "start_time": "2022-04-20T11:27:52.822Z"
   },
   {
    "duration": 2105547,
    "start_time": "2022-04-20T11:27:53.235Z"
   },
   {
    "duration": 9,
    "start_time": "2022-04-20T12:42:40.740Z"
   },
   {
    "duration": 17,
    "start_time": "2022-04-20T12:43:41.153Z"
   },
   {
    "duration": 11,
    "start_time": "2022-04-20T12:45:21.510Z"
   },
   {
    "duration": 1651,
    "start_time": "2022-04-20T13:27:23.368Z"
   },
   {
    "duration": 44,
    "start_time": "2022-04-20T13:27:25.022Z"
   },
   {
    "duration": 12,
    "start_time": "2022-04-20T13:27:25.067Z"
   },
   {
    "duration": 15,
    "start_time": "2022-04-20T13:27:25.081Z"
   },
   {
    "duration": 9,
    "start_time": "2022-04-20T13:27:25.098Z"
   },
   {
    "duration": 27,
    "start_time": "2022-04-20T13:27:25.109Z"
   },
   {
    "duration": 4,
    "start_time": "2022-04-20T13:27:25.138Z"
   },
   {
    "duration": 285,
    "start_time": "2022-04-20T13:27:25.144Z"
   },
   {
    "duration": 272,
    "start_time": "2022-04-20T13:27:25.433Z"
   },
   {
    "duration": 246,
    "start_time": "2022-04-20T13:27:25.706Z"
   },
   {
    "duration": 244,
    "start_time": "2022-04-20T13:27:25.954Z"
   },
   {
    "duration": 260,
    "start_time": "2022-04-20T13:27:26.200Z"
   },
   {
    "duration": 138,
    "start_time": "2022-04-20T13:27:26.462Z"
   },
   {
    "duration": 44,
    "start_time": "2022-04-20T13:27:26.603Z"
   },
   {
    "duration": 8,
    "start_time": "2022-04-20T13:27:26.649Z"
   },
   {
    "duration": 277,
    "start_time": "2022-04-20T13:27:26.659Z"
   },
   {
    "duration": 2075860,
    "start_time": "2022-04-20T13:27:26.939Z"
   },
   {
    "duration": 9,
    "start_time": "2022-04-20T14:02:02.801Z"
   },
   {
    "duration": 30,
    "start_time": "2022-04-20T14:02:02.812Z"
   },
   {
    "duration": 10517,
    "start_time": "2022-04-20T21:06:33.664Z"
   },
   {
    "duration": 11419,
    "start_time": "2022-04-20T21:15:20.261Z"
   },
   {
    "duration": 10,
    "start_time": "2022-04-20T21:23:09.484Z"
   },
   {
    "duration": 10047,
    "start_time": "2022-04-20T21:23:16.415Z"
   },
   {
    "duration": 9,
    "start_time": "2022-04-20T21:24:32.815Z"
   },
   {
    "duration": 1273,
    "start_time": "2022-04-20T21:29:00.337Z"
   },
   {
    "duration": 1212,
    "start_time": "2022-04-20T21:29:39.673Z"
   },
   {
    "duration": 813,
    "start_time": "2022-04-20T21:29:50.238Z"
   },
   {
    "duration": 627,
    "start_time": "2022-04-20T21:30:05.107Z"
   },
   {
    "duration": 11112,
    "start_time": "2022-04-20T21:32:49.806Z"
   },
   {
    "duration": 1677,
    "start_time": "2022-04-20T21:33:45.620Z"
   },
   {
    "duration": 33,
    "start_time": "2022-04-20T21:33:47.299Z"
   },
   {
    "duration": 14,
    "start_time": "2022-04-20T21:33:47.337Z"
   },
   {
    "duration": 14,
    "start_time": "2022-04-20T21:33:47.353Z"
   },
   {
    "duration": 9,
    "start_time": "2022-04-20T21:33:47.370Z"
   },
   {
    "duration": 18,
    "start_time": "2022-04-20T21:33:47.380Z"
   },
   {
    "duration": 4,
    "start_time": "2022-04-20T21:33:47.400Z"
   },
   {
    "duration": 318,
    "start_time": "2022-04-20T21:33:47.405Z"
   },
   {
    "duration": 282,
    "start_time": "2022-04-20T21:33:47.725Z"
   },
   {
    "duration": 262,
    "start_time": "2022-04-20T21:33:48.009Z"
   },
   {
    "duration": 268,
    "start_time": "2022-04-20T21:33:48.273Z"
   },
   {
    "duration": 251,
    "start_time": "2022-04-20T21:33:48.543Z"
   },
   {
    "duration": 144,
    "start_time": "2022-04-20T21:33:48.796Z"
   },
   {
    "duration": 32,
    "start_time": "2022-04-20T21:33:48.943Z"
   },
   {
    "duration": 9,
    "start_time": "2022-04-20T21:33:48.977Z"
   },
   {
    "duration": 553,
    "start_time": "2022-04-20T21:33:48.988Z"
   },
   {
    "duration": 1763,
    "start_time": "2022-04-20T21:36:03.556Z"
   },
   {
    "duration": 42,
    "start_time": "2022-04-20T21:36:05.321Z"
   },
   {
    "duration": 11,
    "start_time": "2022-04-20T21:36:05.365Z"
   },
   {
    "duration": 12,
    "start_time": "2022-04-20T21:36:05.378Z"
   },
   {
    "duration": 12,
    "start_time": "2022-04-20T21:36:05.393Z"
   },
   {
    "duration": 43,
    "start_time": "2022-04-20T21:36:05.407Z"
   },
   {
    "duration": 4,
    "start_time": "2022-04-20T21:36:05.452Z"
   },
   {
    "duration": 291,
    "start_time": "2022-04-20T21:36:05.458Z"
   },
   {
    "duration": 281,
    "start_time": "2022-04-20T21:36:05.751Z"
   },
   {
    "duration": 254,
    "start_time": "2022-04-20T21:36:06.035Z"
   },
   {
    "duration": 270,
    "start_time": "2022-04-20T21:36:06.291Z"
   },
   {
    "duration": 271,
    "start_time": "2022-04-20T21:36:06.562Z"
   },
   {
    "duration": 141,
    "start_time": "2022-04-20T21:36:06.838Z"
   },
   {
    "duration": 28,
    "start_time": "2022-04-20T21:36:06.983Z"
   },
   {
    "duration": 26,
    "start_time": "2022-04-20T21:36:07.013Z"
   },
   {
    "duration": 503,
    "start_time": "2022-04-20T21:36:07.043Z"
   },
   {
    "duration": 1809334,
    "start_time": "2022-04-20T21:36:07.550Z"
   },
   {
    "duration": 13,
    "start_time": "2022-04-20T22:06:16.886Z"
   },
   {
    "duration": 42,
    "start_time": "2022-04-20T22:06:16.902Z"
   }
  ],
  "kernelspec": {
   "display_name": "Python 3",
   "language": "python",
   "name": "python3"
  },
  "language_info": {
   "codemirror_mode": {
    "name": "ipython",
    "version": 3
   },
   "file_extension": ".py",
   "mimetype": "text/x-python",
   "name": "python",
   "nbconvert_exporter": "python",
   "pygments_lexer": "ipython3",
   "version": "3.8.8"
  },
  "toc": {
   "base_numbering": 1,
   "nav_menu": {},
   "number_sections": true,
   "sideBar": true,
   "skip_h1_title": true,
   "title_cell": "Содержание",
   "title_sidebar": "Contents",
   "toc_cell": true,
   "toc_position": {},
   "toc_section_display": true,
   "toc_window_display": false
  }
 },
 "nbformat": 4,
 "nbformat_minor": 2
}
